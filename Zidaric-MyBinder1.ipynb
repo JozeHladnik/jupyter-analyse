{
 "cells": [
  {
   "cell_type": "markdown",
   "metadata": {},
   "source": [
    "# Poskus z dodatki za tla\n",
    "### Na Brdu pri lukovici so bili uprobljeni naslendji priparati pri sajenju jablane sorte 'Gala':\n",
    "1 - kontrola <br> \n",
    "2 - xx  <br> \n",
    "3 - PRP <br> \n",
    "3 - xx \n"
   ]
  },
  {
   "cell_type": "code",
   "execution_count": 171,
   "metadata": {},
   "outputs": [
    {
     "name": "stdout",
     "output_type": "stream",
     "text": [
      "Naloženo\n"
     ]
    }
   ],
   "source": [
    "#!pip install matplotlib\n",
    "#!pip install pandas\n",
    "#!pip install xlrd\n",
    "#!pip install openpyxl\n",
    "#!pip install seaborn\n",
    "#!pip install --upgrade SciPy --user\n",
    "print('Naloženo')"
   ]
  },
  {
   "cell_type": "code",
   "execution_count": 172,
   "metadata": {},
   "outputs": [
    {
     "name": "stdout",
     "output_type": "stream",
     "text": [
      "Uvoženo\n"
     ]
    }
   ],
   "source": [
    "#from __future__ import print_function\n",
    "from ipywidgets import interact, interactive, fixed, interact_manual\n",
    "%matplotlib inline\n",
    "import ipywidgets as widgets\n",
    "from typing import Tuple\n",
    "import numpy as np\n",
    "import matplotlib.pyplot as plt\n",
    "import matplotlib as mpl\n",
    "import pandas as pd\n",
    "import seaborn as sns\n",
    "import ipywidgets\n",
    "#from statsmodels.formula.api import ols\n",
    "#import sys\n",
    "print(\"Uvoženo\")"
   ]
  },
  {
   "cell_type": "code",
   "execution_count": 173,
   "metadata": {},
   "outputs": [
    {
     "name": "stdout",
     "output_type": "stream",
     "text": [
      "Oblika tabele je(vrstice, stolpci): (637, 61)\n"
     ]
    }
   ],
   "source": [
    "#Naloži podatke in jih prikaže, Izberemo kje so oznake (in kje so merjeni parametri)\n",
    "Zid = pd.read_excel(r\"https://github.com/JozeHladnik/jupyter-analyse/raw/Za_predstavitev/Vsi-podatki-zdruzeni-en.xlsx\",0)\n",
    "#https://github.com/JozeHladnik/jupyter-analyse/raw/master/Vsi-podatki-zdruzeni-en.xlsx\n",
    "#     https://github.com/JozeHladnik/jupyter-analyse/raw/master/Vsi-podatki-zdruzeni-en.xlsx\n",
    "print('Oblika tabele je(vrstice, stolpci):', Zid.shape)"
   ]
  },
  {
   "cell_type": "code",
   "execution_count": 174,
   "metadata": {},
   "outputs": [
    {
     "name": "stdout",
     "output_type": "stream",
     "text": [
      "['Vrsta' 'Parcela_v_vrsti' 'Obravnavanje' 'Blok' 'St_drevesa'\n",
      " 'Obseg_d_2016' 'Obseg_d_2017' 'Obseg_d_2018' 'Obseg_d_2019'\n",
      " 'Prirast_obsega_17']\n",
      "--- Zgoraj so naslovi prvih deset stolpcev. Spodaj izberi številko zadnjega z oznakami (sledeči vsebujejo merjene paramaetre!) ---\n"
     ]
    },
    {
     "data": {
      "application/vnd.jupyter.widget-view+json": {
       "model_id": "56346f6403dd435fa5a95d42c2d98112",
       "version_major": 2,
       "version_minor": 0
      },
      "text/plain": [
       "interactive(children=(Dropdown(description='Koncni', index=3, options=(0, 1, 2, 3, 4, 5, 6, 7, 8, 9, 10, 11, 1…"
      ]
     },
     "metadata": {},
     "output_type": "display_data"
    },
    {
     "data": {
      "text/plain": [
       "<function __main__.Oznake(Koncni=3)>"
      ]
     },
     "execution_count": 174,
     "metadata": {},
     "output_type": "execute_result"
    }
   ],
   "source": [
    "#izpiše grafikon z merjenimi paramatri - delujoč\n",
    "stStolpcev=pd.Series(range(0,len(Zid.columns))) #naredimo serijo številk s št.stolpcev\n",
    "print(Zid.columns.values[0:10])\n",
    "print('--- Zgoraj so naslovi prvih deset stolpcev. Spodaj izberi številko zadnjega z oznakami (sledeči vsebujejo merjene paramaetre!) ---')\n",
    "#xx=Zid.columns.values #imena stolpcev\n",
    "def Oznake( Koncni=stStolpcev[3]):  #Zacetni, #\n",
    "    #fig, ax = plt.subplots()\n",
    "    global prvi, drugi, niz, x1, x2\n",
    "    x2=Koncni #x1=Zacetni,\n",
    "        #prvi=Zid.columns.values[Zacetni]\n",
    "    drugi=Zid.columns.values[Koncni]\n",
    "    niz='Do \"\"'+ drugi + '\"\" so torej oznake vzorcev? OK. Torej gremo naprej!'\n",
    "    \n",
    "#to je za izpis prvih stolpcev\n",
    "    oznake=pd.Series(range(0,x2))\n",
    "    for i in oznake:\n",
    "        stolpec=Zid.columns.values[i]\n",
    "        posamezneOznake = pd.unique(Zid[stolpec])\n",
    "        print(stolpec, \" ; \", end =\" \"); print(posamezneOznake)\n",
    "        #return(Zacetna,Koncna)\n",
    "#narišemo grafe\n",
    "    xx=Zid.columns.values[0:x2] #poberem kateri so oznake\n",
    "    yy=Zid.columns.values[x2:] #prebere tiste ki do merjeni parametri\n",
    "    #print(xx)#.to_numeric\n",
    "    def f(xOs=xx[2],zdruziPo=xx[0],   yOs=yy[2]):\n",
    "                        \n",
    "        fig, ax = plt.subplots()\n",
    "        \n",
    "        Zid1= Zid.loc[(Zid[yOs] > 0.1)] # izloči kar je 0 v tabeli\n",
    "        sns.boxplot(x=xOs, y=yOs, hue=zdruziPo, data=Zid1, palette=\"Set3\", ax=ax)  #hue=\"meso\",\n",
    "        plt.show() #prikaže vsak graf\n",
    "        nn = 'ZidariC'+xOs+zdruziPo+'_za_'+yOs+'.png'\n",
    "        fig.savefig(nn, dpi=300)\n",
    "        #return(zdruziPo, xOs, yOs)\n",
    "    interact(f,xOs=xx, zdruziPo=xx, yOs=yy);\n",
    "    #return(prvi,drugi, niz)\n",
    "interact(Oznake, Koncni=stStolpcev) #,Zacetni=stStolpcev  \n",
    "\n",
    "    \n",
    "\n",
    "#print('Začenti in končni stolpec v katerem so oznake vzorcev. (v naslednjih so mirjeni parametri).')\n",
    "#print(niz)"
   ]
  },
  {
   "cell_type": "code",
   "execution_count": null,
   "metadata": {},
   "outputs": [],
   "source": []
  }
 ],
 "metadata": {
  "kernelspec": {
   "display_name": "Python 3",
   "language": "python",
   "name": "python3"
  },
  "language_info": {
   "codemirror_mode": {
    "name": "ipython",
    "version": 3
   },
   "file_extension": ".py",
   "mimetype": "text/x-python",
   "name": "python",
   "nbconvert_exporter": "python",
   "pygments_lexer": "ipython3",
   "version": "3.8.5"
  }
 },
 "nbformat": 4,
 "nbformat_minor": 4
}
