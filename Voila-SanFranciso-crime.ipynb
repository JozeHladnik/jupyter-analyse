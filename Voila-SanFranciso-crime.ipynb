{
 "cells": [
  {
   "cell_type": "code",
   "execution_count": 1,
   "metadata": {},
   "outputs": [],
   "source": [
    "#!pip install bqplot\n",
    "#!pip install voila \n",
    "#!pip install folium"
   ]
  },
  {
   "cell_type": "code",
   "execution_count": 2,
   "metadata": {},
   "outputs": [
    {
     "data": {
      "application/vnd.jupyter.widget-view+json": {
       "model_id": "0d115a849a05426fad2b489f152310d5",
       "version_major": 2,
       "version_minor": 0
      },
      "text/plain": [
       "HBox(children=(VBox(children=(IntSlider(value=0), IntSlider(value=0))), Output()))"
      ]
     },
     "metadata": {},
     "output_type": "display_data"
    }
   ],
   "source": [
    "#test \n",
    "from ipywidgets import HBox, VBox, IntSlider, interactive_output\n",
    "from IPython.display import display\n",
    "\n",
    "a = IntSlider()\n",
    "b = IntSlider()\n",
    "\n",
    "def f(a, b):\n",
    "    print(\"{} * {} = {}\".format(a, b, a * b))\n",
    "\n",
    "out = interactive_output(f, { \"a\": a, \"b\": b })\n",
    "\n",
    "display(HBox([VBox([a, b]), out]))"
   ]
  },
  {
   "cell_type": "code",
   "execution_count": 3,
   "metadata": {},
   "outputs": [
    {
     "data": {
      "application/vnd.jupyter.widget-view+json": {
       "model_id": "2541206da658430ea6378373a416bb4a",
       "version_major": 2,
       "version_minor": 0
      },
      "text/plain": [
       "VBox(children=(IntSlider(value=4, description='$x$'), FloatText(value=0.0, description='$x^2$', disabled=True)…"
      ]
     },
     "metadata": {},
     "output_type": "display_data"
    }
   ],
   "source": [
    "#iz Anka-japka/voila/notebooks/bqplot.ipynb\n",
    "import ipywidgets as widgets\n",
    "\n",
    "slider = widgets.IntSlider(description='$x$', value=4)\n",
    "text = widgets.FloatText(disabled=True, description='$x^2$')\n",
    "text2=widgets.Dropdown(options=['1', '2', '3'],value='2', description='Number:',   disabled=False,)\n",
    "\n",
    "def compute(*ignore):\n",
    "    text.value = str(slider.value ** 2)\n",
    "\n",
    "slider.observe(compute, 'value')\n",
    "text2.observe(compute, 'value')\n",
    "\n",
    "widgets.VBox([slider, text, text2])"
   ]
  },
  {
   "cell_type": "code",
   "execution_count": 4,
   "metadata": {},
   "outputs": [],
   "source": [
    "## iz https://towardsdatascience.com/creating-an-interactive-dashboard-from-jupyter-notebook-with-voila-b64918b4d15a\n",
    "##df = pd.read_csv('SF_crimes.csv')\n",
    "\n",
    "import ipywidgets as widgets\n",
    "import pandas as pd\n",
    "URL='https://github.com/wesm/strata-sj-2015/raw/master/sf_crimes.csv'\n",
    "df = pd.read_csv(URL)\n",
    "unique_district = df.PdDistrict.unique()\n",
    "from ipywidgets import Layout\n",
    "district = widgets.SelectMultiple(\n",
    "    options = unique_district.tolist(),\n",
    "    value = ['BAYVIEW', 'NORTHERN'],\n",
    "    description='District',\n",
    "    disabled=False,\n",
    "    layout = Layout(width='50%', height='80px', display='flex') )\n",
    "\n",
    "import pandas as pd\n",
    "import ipywidgets as widgets\n",
    "from ipywidgets import Layout\n",
    "\n",
    "unique_cat = df.Category.unique()\n",
    "style = {'description_width': 'initial'}\n",
    "category = widgets.SelectMultiple(\n",
    "    options = unique_cat.tolist(),\n",
    "    value = ['VANDALISM', 'ASSAULT', 'ROBBERY'],\n",
    "    description='Criminal Case',\n",
    "    disabled=False,\n",
    "    style=style,\n",
    "    layout = Layout(width='50%', height='80px')\n",
    ")\n",
    "import folium\n",
    "style = {'description_width': 'initial'}\n",
    "limit_case = widgets.IntSlider(\n",
    "    value=1000,\n",
    "    min=100,\n",
    "    max=5000,\n",
    "    step=1,\n",
    "    description='Max Number of Case:',\n",
    "    disabled=False,\n",
    "    style=style)\n",
    "import matplotlib.pyplot as plt\n",
    "from folium import plugins\n",
    "import numpy as np\n",
    "\n",
    "#print('dd')\n"
   ]
  },
  {
   "cell_type": "code",
   "execution_count": 17,
   "metadata": {},
   "outputs": [
    {
     "data": {
      "text/html": [
       "<div>\n",
       "<style scoped>\n",
       "    .dataframe tbody tr th:only-of-type {\n",
       "        vertical-align: middle;\n",
       "    }\n",
       "\n",
       "    .dataframe tbody tr th {\n",
       "        vertical-align: top;\n",
       "    }\n",
       "\n",
       "    .dataframe thead th {\n",
       "        text-align: right;\n",
       "    }\n",
       "</style>\n",
       "<table border=\"1\" class=\"dataframe\">\n",
       "  <thead>\n",
       "    <tr style=\"text-align: right;\">\n",
       "      <th></th>\n",
       "      <th>IncidntNum</th>\n",
       "      <th>Category</th>\n",
       "      <th>Descript</th>\n",
       "      <th>DayOfWeek</th>\n",
       "      <th>Date</th>\n",
       "      <th>Time</th>\n",
       "      <th>PdDistrict</th>\n",
       "      <th>Resolution</th>\n",
       "      <th>Address</th>\n",
       "      <th>X</th>\n",
       "      <th>Y</th>\n",
       "      <th>Location</th>\n",
       "    </tr>\n",
       "  </thead>\n",
       "  <tbody>\n",
       "    <tr>\n",
       "      <th>0</th>\n",
       "      <td>140090226</td>\n",
       "      <td>WARRANTS</td>\n",
       "      <td>ENROUTE TO PAROLE OFFICER</td>\n",
       "      <td>Thursday</td>\n",
       "      <td>01/30/2014 12:00:00 AM</td>\n",
       "      <td>21:56</td>\n",
       "      <td>MISSION</td>\n",
       "      <td>ARREST, BOOKED</td>\n",
       "      <td>400 Block of SOUTH VAN NESS AV</td>\n",
       "      <td>-122.417663</td>\n",
       "      <td>37.766274</td>\n",
       "      <td>(37.7662744315825, -122.417662868855)</td>\n",
       "    </tr>\n",
       "    <tr>\n",
       "      <th>1</th>\n",
       "      <td>140584724</td>\n",
       "      <td>NON-CRIMINAL</td>\n",
       "      <td>LICENSE PLATE, FOUND</td>\n",
       "      <td>Monday</td>\n",
       "      <td>07/14/2014 12:00:00 AM</td>\n",
       "      <td>09:16</td>\n",
       "      <td>BAYVIEW</td>\n",
       "      <td>NONE</td>\n",
       "      <td>EVANS AV / MARIN ST</td>\n",
       "      <td>-122.396650</td>\n",
       "      <td>37.748351</td>\n",
       "      <td>(37.7483507577633, -122.396650247607)</td>\n",
       "    </tr>\n",
       "    <tr>\n",
       "      <th>2</th>\n",
       "      <td>150053236</td>\n",
       "      <td>TRESPASS</td>\n",
       "      <td>TRESPASSING</td>\n",
       "      <td>Sunday</td>\n",
       "      <td>01/18/2015 12:00:00 AM</td>\n",
       "      <td>00:27</td>\n",
       "      <td>MISSION</td>\n",
       "      <td>ARREST, BOOKED</td>\n",
       "      <td>1000 Block of POTRERO AV</td>\n",
       "      <td>-122.406539</td>\n",
       "      <td>37.756486</td>\n",
       "      <td>(37.7564864109309, -122.406539115148)</td>\n",
       "    </tr>\n",
       "    <tr>\n",
       "      <th>3</th>\n",
       "      <td>140797585</td>\n",
       "      <td>VEHICLE THEFT</td>\n",
       "      <td>STOLEN TRUCK</td>\n",
       "      <td>Sunday</td>\n",
       "      <td>09/21/2014 12:00:00 AM</td>\n",
       "      <td>19:00</td>\n",
       "      <td>TENDERLOIN</td>\n",
       "      <td>NONE</td>\n",
       "      <td>OFARRELL ST / TAYLOR ST</td>\n",
       "      <td>-122.411328</td>\n",
       "      <td>37.785996</td>\n",
       "      <td>(37.7859963050476, -122.411328369311)</td>\n",
       "    </tr>\n",
       "    <tr>\n",
       "      <th>4</th>\n",
       "      <td>140188558</td>\n",
       "      <td>LARCENY/THEFT</td>\n",
       "      <td>GRAND THEFT FROM LOCKED AUTO</td>\n",
       "      <td>Wednesday</td>\n",
       "      <td>03/05/2014 12:00:00 AM</td>\n",
       "      <td>09:30</td>\n",
       "      <td>MISSION</td>\n",
       "      <td>NONE</td>\n",
       "      <td>1700 Block of HARRISON ST</td>\n",
       "      <td>-122.413492</td>\n",
       "      <td>37.769083</td>\n",
       "      <td>(37.7690826019573, -122.413492224653)</td>\n",
       "    </tr>\n",
       "  </tbody>\n",
       "</table>\n",
       "</div>"
      ],
      "text/plain": [
       "   IncidntNum       Category                      Descript  DayOfWeek  \\\n",
       "0   140090226       WARRANTS     ENROUTE TO PAROLE OFFICER   Thursday   \n",
       "1   140584724   NON-CRIMINAL          LICENSE PLATE, FOUND     Monday   \n",
       "2   150053236       TRESPASS                   TRESPASSING     Sunday   \n",
       "3   140797585  VEHICLE THEFT                  STOLEN TRUCK     Sunday   \n",
       "4   140188558  LARCENY/THEFT  GRAND THEFT FROM LOCKED AUTO  Wednesday   \n",
       "\n",
       "                     Date   Time  PdDistrict      Resolution  \\\n",
       "0  01/30/2014 12:00:00 AM  21:56     MISSION  ARREST, BOOKED   \n",
       "1  07/14/2014 12:00:00 AM  09:16     BAYVIEW            NONE   \n",
       "2  01/18/2015 12:00:00 AM  00:27     MISSION  ARREST, BOOKED   \n",
       "3  09/21/2014 12:00:00 AM  19:00  TENDERLOIN            NONE   \n",
       "4  03/05/2014 12:00:00 AM  09:30     MISSION            NONE   \n",
       "\n",
       "                          Address           X          Y  \\\n",
       "0  400 Block of SOUTH VAN NESS AV -122.417663  37.766274   \n",
       "1             EVANS AV / MARIN ST -122.396650  37.748351   \n",
       "2        1000 Block of POTRERO AV -122.406539  37.756486   \n",
       "3         OFARRELL ST / TAYLOR ST -122.411328  37.785996   \n",
       "4       1700 Block of HARRISON ST -122.413492  37.769083   \n",
       "\n",
       "                                Location  \n",
       "0  (37.7662744315825, -122.417662868855)  \n",
       "1  (37.7483507577633, -122.396650247607)  \n",
       "2  (37.7564864109309, -122.406539115148)  \n",
       "3  (37.7859963050476, -122.411328369311)  \n",
       "4  (37.7690826019573, -122.413492224653)  "
      ]
     },
     "execution_count": 17,
     "metadata": {},
     "output_type": "execute_result"
    }
   ],
   "source": [
    "import voila\n",
    "df.head()\n"
   ]
  },
  {
   "cell_type": "code",
   "execution_count": 5,
   "metadata": {},
   "outputs": [],
   "source": [
    "def update_map(district, category, limit):\n",
    "    \n",
    "    df = pd.read_csv('https://github.com/wesm/strata-sj-2015/raw/master/sf_crimes.csv')\n",
    "    df = df.iloc[0:limit, :]\n",
    "    \n",
    "    latitude = 37.77\n",
    "    longitude = -122.42\n",
    "    \n",
    "    df_dist = df.loc[df['PdDistrict'].isin(np.array(district))]\n",
    "    df_category = df_dist.loc[df_dist['Category'].isin(np.array(category))]\n",
    "    \n",
    "    cat_unique = df_category['Category'].value_counts()\n",
    "    cat_unique = cat_unique.reset_index()\n",
    "    \n",
    "    dist_unique = df_category['PdDistrict'].value_counts()\n",
    "    dist_unique = dist_unique.reset_index()\n",
    "    \n",
    "    fig, (ax1, ax2) = plt.subplots(1, 2, figsize=(20,10))\n",
    "\n",
    "    # create map and display it\n",
    "    sanfran_map = folium.Map(location=[latitude, longitude], zoom_start=12)\n",
    "\n",
    "    \n",
    "    incidents = plugins.MarkerCluster().add_to(sanfran_map)\n",
    "\n",
    "# loop through the dataframe and add each data point to the mark cluster\n",
    "    for lat, lng, label, in zip(df_category.Y, df_category.X, df_category.Category):\n",
    "        folium.Marker(\n",
    "        location=[lat, lng],\n",
    "        icon=None,\n",
    "        popup=label,\n",
    "        ).add_to(incidents)\n",
    "# show map\n",
    "    display(sanfran_map)\n",
    "    \n",
    "    ax1.bar(cat_unique['index'], cat_unique['Category'])\n",
    "    ax1.set_title('Amount of Criminal Case Based on Category')\n",
    "    ax2.bar(dist_unique['index'], dist_unique['PdDistrict'])\n",
    "    ax2.set_title('Amount of Criminal Case in Selected District')\n",
    "    \n",
    "    plt.show()"
   ]
  },
  {
   "cell_type": "code",
   "execution_count": 6,
   "metadata": {
    "scrolled": false
   },
   "outputs": [
    {
     "data": {
      "application/vnd.jupyter.widget-view+json": {
       "model_id": "9baa45d4688e4bcdaf5b6c4e3ac78268",
       "version_major": 2,
       "version_minor": 0
      },
      "text/plain": [
       "interactive(children=(SelectMultiple(description='District', index=(1, 6), layout=Layout(display='flex', heigh…"
      ]
     },
     "metadata": {},
     "output_type": "display_data"
    }
   ],
   "source": [
    "widgets.interactive(update_map, district = district, category = category, limit=limit_case)"
   ]
  },
  {
   "cell_type": "code",
   "execution_count": null,
   "metadata": {},
   "outputs": [],
   "source": []
  }
 ],
 "metadata": {
  "kernelspec": {
   "display_name": "Python 3",
   "language": "python",
   "name": "python3"
  },
  "language_info": {
   "codemirror_mode": {
    "name": "ipython",
    "version": 3
   },
   "file_extension": ".py",
   "mimetype": "text/x-python",
   "name": "python",
   "nbconvert_exporter": "python",
   "pygments_lexer": "ipython3",
   "version": "3.7.3"
  }
 },
 "nbformat": 4,
 "nbformat_minor": 4
}
