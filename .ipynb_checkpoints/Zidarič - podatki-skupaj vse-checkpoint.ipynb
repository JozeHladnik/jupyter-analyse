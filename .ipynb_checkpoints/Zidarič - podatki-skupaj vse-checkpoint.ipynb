{
 "cells": [
  {
   "cell_type": "code",
   "execution_count": 1,
   "metadata": {},
   "outputs": [],
   "source": [
    "!pip install matplotlib\n",
    "!pip install pandas\n",
    "!pip install xlrd\n",
    "!pip install openpyxl\n",
    "!pip install seaborn\n",
    "#!pip install --upgrade SciPy --user\n",
    "print('Naloženo')"
   ]
  },
  {
   "cell_type": "code",
   "execution_count": 2,
   "metadata": {},
   "outputs": [
    {
     "name": "stdout",
     "output_type": "stream",
     "text": [
      "hallo world\n"
     ]
    }
   ],
   "source": [
    "from __future__ import print_function\n",
    "from ipywidgets import interact, interactive, fixed, interact_manual\n",
    "%matplotlib inline\n",
    "import ipywidgets as widgets\n",
    "from typing import Tuple\n",
    "import numpy as np\n",
    "import matplotlib.pyplot as plt\n",
    "import matplotlib as mpl\n",
    "import pandas as pd\n",
    "import seaborn as sns\n",
    "#from statsmodels.formula.api import ols\n",
    "import sys\n",
    "print(\"hallo world\")"
   ]
  },
  {
   "cell_type": "code",
   "execution_count": 3,
   "metadata": {},
   "outputs": [
    {
     "name": "stdout",
     "output_type": "stream",
     "text": [
      "Oblika tabele je(vrstice, stolpci): (637, 61)\n",
      "Naslovi vrstic: -  Index(['LD', 'parc', 'obr', 'blok', 'st.drev', '16o', '17o', '18o', '19o',\n",
      "       '17o.p', '18o.p', '19o.p', 'skup.o.p18', 'skup.o.p19', '17v%', '18v%',\n",
      "       '19v%', 'SKUPv%18', 'SKUPv%19', 'IZLOCITI', '17-dol', '17st.pog',\n",
      "       '17-avg.pog', '17.10plus', '17-vrh', '18-dol', '18st.pog', '18-avg.pog',\n",
      "       '18.10plus', '18-vrh', 'izloci', '19-dol', '19st.pog', '19-avg.pog',\n",
      "       '19.10plus', '19-vrh', 'prir.dolz', 'prir.st', 'mirjena', '18I.st',\n",
      "       '18I.kg', '18II.st', '18II.kg', '18.tla.st', '18st.j', '18.kg',\n",
      "       '19I.st', '19I.kg', '19II.st', '19II.kg', '19.tla.st', '19st.j',\n",
      "       '19.kg', '20I.st', '20I.kg', '20II.st', '20II.kg', '20.tla.st',\n",
      "       '20st.j', '20.kg', 'vse'],\n",
      "      dtype='object')\n",
      "Leva-Desna:  ['L' 'D']\n",
      "Parcele:  [ 1  2  3  4  5  6  7  8  9 10 11 12 13 14 15 16 17 18 19 20 21 22 23 24\n",
      " 25 26 27 28 29 30 31 32]\n",
      "Obravnavanja:  [1 2 3 4 5 6 7 8]\n",
      "Blok:  [1 2 3 4]\n"
     ]
    }
   ],
   "source": [
    "#Naloži podatke\n",
    "Zid = pd.read_excel(r\"https://github.com/JozeHladnik/jupyter-analyse/raw/master/Vsi-podatki-zdruzeni-en.xlsx\",0)\n",
    "#     https://github.com/JozeHladnik/jupyter-analyse/raw/master/Vsi-podatki-zdruzeni-en.xlsx\n",
    "print('Oblika tabele je(vrstice, stolpci):', Zid.shape)\n",
    "print('Naslovi vrstic: - ', Zid.columns) #naredi array z imeni stolpcev - izberemo katere od teh podatkov želimo prikazati\n",
    "\n",
    "# print(\"Stolpec meso - deli merjeni: \", end =\" \"); print(pd.unique(Anka[\"meso\"]))\n",
    "ld = pd.unique(Zid[\"LD\"])\n",
    "print(\"Leva-Desna: \", end =\" \"); print(ld)\n",
    "parc = pd.unique(Zid[\"parc\"])\n",
    "print(\"Parcele: \", end =\" \"); print(parc)\n",
    "obr  = pd.unique(Zid[\"obr\"])\n",
    "print(\"Obravnavanja: \", end =\" \"); print(obr)\n",
    "blok = pd.unique(Zid[\"blok\"])\n",
    "print(\"Blok: \", end =\" \"); print(blok)"
   ]
  },
  {
   "cell_type": "code",
   "execution_count": 4,
   "metadata": {},
   "outputs": [
    {
     "data": {
      "application/vnd.jupyter.widget-view+json": {
       "model_id": "a20f52b1715f4580b26266ce046a070c",
       "version_major": 2,
       "version_minor": 0
      },
      "text/plain": [
       "interactive(children=(Dropdown(description='x', options=('obr', 'blok', 'LD', 'parc', 'st.drev', ''), value='o…"
      ]
     },
     "metadata": {},
     "output_type": "display_data"
    }
   ],
   "source": [
    "#Interaktivni graf z shranjevanjem. Podarki morajo biti uvoženi prej, da se hitro izvaja.\n",
    "k = ['LD', 'parc', 'obr', 'blok', 'st.drev', '16o', '17o', '18o', '17o.p',\n",
    "       '18o.p', 'skup.o.p', '17v.del', '18v.del', 'SKUPv.del', 'IZLOCITI',\n",
    "       '17-dol', '17st.pog', '17-avg.pog', '17.10plus', '17-vrh', '18-dol',\n",
    "       '18st.pog', '18-avg.pog', '18.10plus', '18-vrh', 'izloci', '19o',\n",
    "       '19-dol', '19-st.pog', '19-avg.pog', '19.10plus', '19-vrh', '19I.st',\n",
    "       '19I.kg', '19II.st', '19II.kg', '19.tla.st', '19st.j', '19.kg',\n",
    "       'Unnamed: 39'] #'cy3_1gal'] #izberemo katere parametre želimo računati - Glej kaj natisne \"h\"\n",
    "xx =  ['obr', 'blok', 'LD', 'parc','st.drev','']\n",
    "hue = ['LD','obr', 'blok',  'parc','st.drev',None]\n",
    "y = ['16o', '17o', '18o', '19o',\n",
    "       '17o.p', '18o.p', '19o.p', 'skup.o.p18', 'skup.o.p19', '17v%', '18v%',\n",
    "       '19v%', 'SKUPv%18', 'SKUPv%19', 'IZLOCITI', '17-dol', '17st.pog',\n",
    "       '17-avg.pog', '17.10plus', '17-vrh', '18-dol', '18st.pog', '18-avg.pog',\n",
    "       '18.10plus', '18-vrh', 'izloci', '19-dol', '19-st.pog', '19-avg.pog',\n",
    "       '19.10plus', '19-vrh', 'prir.dolz', 'prir.st', '19I.st', '19I.kg',\n",
    "       '19II.st', '19II.kg', '19.tla.st', '19st.j', '19.kg', 'vse']\n",
    "def f(x, y, hue):\n",
    "    fig, ax = plt.subplots()\n",
    "    Zid1= Zid.loc[(Zid[y] > 0.1)] # izloči kar je 0 v tabeli\n",
    "    sns.boxplot(x=x, y=y, hue=hue, data=Zid1, palette=\"Set3\", ax=ax)  #hue=\"meso\",\n",
    "    plt.show() #prikaže vsak graf\n",
    "    nn = 'ZidariC'+x+hue+'_za_'+y+'.png'\n",
    "    fig.savefig(nn, dpi=300)\n",
    "    return(hue, x, y)\n",
    "interact(f,x=xx, y=y, hue=hue);"
   ]
  }
 ],
 "metadata": {
  "kernelspec": {
   "display_name": "Python 3",
   "language": "python",
   "name": "python3"
  },
  "language_info": {
   "codemirror_mode": {
    "name": "ipython",
    "version": 3
   },
   "file_extension": ".py",
   "mimetype": "text/x-python",
   "name": "python",
   "nbconvert_exporter": "python",
   "pygments_lexer": "ipython3",
   "version": "3.8.5"
  }
 },
 "nbformat": 4,
 "nbformat_minor": 4
}
