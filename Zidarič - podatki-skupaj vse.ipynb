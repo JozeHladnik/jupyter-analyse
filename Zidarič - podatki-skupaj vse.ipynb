{
 "cells": [
  {
   "cell_type": "code",
   "execution_count": 1,
   "metadata": {},
   "outputs": [],
   "source": [
    "!pip install matplotlib\n",
    "!pip install pandas\n",
    "!pip install xlrd\n",
    "!pip install openpyxl\n",
    "!pip install seaborn\n",
    "#!pip install --upgrade SciPy --user\n",
    "print('Naloženo')"
   ]
  },
  {
   "cell_type": "code",
   "execution_count": 52,
   "metadata": {},
   "outputs": [
    {
     "name": "stdout",
     "output_type": "stream",
     "text": [
      "hallo world\n"
     ]
    }
   ],
   "source": [
    "from __future__ import print_function\n",
    "from ipywidgets import interact, interactive, fixed, interact_manual\n",
    "%matplotlib inline\n",
    "import ipywidgets as widgets\n",
    "from typing import Tuple\n",
    "import numpy as np\n",
    "import matplotlib.pyplot as plt\n",
    "import matplotlib as mpl\n",
    "import pandas as pd\n",
    "import seaborn as sns\n",
    "#from statsmodels.formula.api import ols\n",
    "import sys\n",
    "print(\"hallo world\")"
   ]
  },
  {
   "cell_type": "code",
   "execution_count": 53,
   "metadata": {},
   "outputs": [
    {
     "name": "stdout",
     "output_type": "stream",
     "text": [
      "Index(['LD', 'parc', 'obr', 'blok', 'st.drev', '16o', '17o', '18o', '19o',\n",
      "       '17o.p', '18o.p', '19o.p', 'skup.o.p18', 'skup.o.p19', '17v%', '18v%',\n",
      "       '19v%', 'SKUPv%18', 'SKUPv%19', 'IZLOCITI', '17-dol', '17st.pog',\n",
      "       '17-avg.pog', '17.10plus', '17-vrh', '18-dol', '18st.pog', '18-avg.pog',\n",
      "       '18.10plus', '18-vrh', 'izloci', '19-dol', '19-st.pog', '19-avg.pog',\n",
      "       '19.10plus', '19-vrh', 'prir.dolz', 'prir.st', 'mirjena', '18I.st',\n",
      "       '18I.kg', '18II.st', '18II.kg', '18.tla.st', '18st.j', '18.kg',\n",
      "       '19I.st', '19I.kg', '19II.st', '19II.kg', '19.tla.st', '19st.j',\n",
      "       '19.kg', '20I.st', '20I.kg', '20II.st', '20II.kg', '20.tla.st',\n",
      "       '20st.j', '20.kg', 'vse'],\n",
      "      dtype='object')\n",
      "Leva-Desna:  ['L' 'D']\n",
      "Parcele:  [ 1  2  3  4  5  6  7  8  9 10 11 12 13 14 15 16 17 18 19 20 21 22 23 24\n",
      " 25 26 27 28 29 30 31 32]\n",
      "Obravnavanja:  [1 2 3 4 5 6 7 8]\n",
      "Blok:  [1 2 3 4]\n"
     ]
    }
   ],
   "source": [
    "#podatke mora naložiti v tem koraku, ker čene preveč traja\n",
    "Zid = pd.read_excel (r\"P:\\OSVV\\Jablana\\2020\\Zidaric_poskus_2020\\Za obdelavo-vse\\Vsi podatki zdruzeni-2.xlsx\", 0) #bere file\n",
    "print(Zid.columns) #naredi array z imeni stolpcev - izberemo katere od teh podatkov želimo prikazati\n",
    "#nadaljujemo z ugotalvjanjem ukikatnih obravnavanj:\n",
    "# print(\"Stolpec meso - deli merjeni: \", end =\" \"); print(pd.unique(Anka[\"meso\"]))\n",
    "ld = pd.unique(Zid[\"LD\"])\n",
    "print(\"Leva-Desna: \", end =\" \"); print(ld)\n",
    "parc = pd.unique(Zid[\"parc\"])\n",
    "print(\"Parcele: \", end =\" \"); print(parc)\n",
    "obr  = pd.unique(Zid[\"obr\"])\n",
    "print(\"Obravnavanja: \", end =\" \"); print(obr)\n",
    "blok = pd.unique(Zid[\"blok\"])\n",
    "print(\"Blok: \", end =\" \"); print(blok)\n",
    "\n",
    "\n"
   ]
  },
  {
   "cell_type": "code",
   "execution_count": 54,
   "metadata": {},
   "outputs": [
    {
     "name": "stdout",
     "output_type": "stream",
     "text": [
      "(637, 61)\n",
      "(541, 61)\n",
      "(226, 61)\n"
     ]
    }
   ],
   "source": [
    "print(Zid.shape)\n",
    "#Zid['IZLOCITI'] = pd.to_numeric(Zid['IZLOCITI'])\n",
    "Zid1= Zid.loc[(Zid['IZLOCITI'] <= 0)]\n",
    "print(Zid1.shape)\n",
    "\n",
    "#Zid1['mirjena'] = pd.to_numeric(Zid1['mirjena'])\n",
    "Zid2= Zid1.loc[(Zid1['mirjena'] >= 5)]\n",
    "print(Zid2.shape)"
   ]
  },
  {
   "cell_type": "code",
   "execution_count": 55,
   "metadata": {},
   "outputs": [
    {
     "data": {
      "image/png": "[encoded data removed]",
      "text/plain": [
       "<Figure size 432x288 with 1 Axes>"
      ]
     },
     "metadata": {
      "needs_background": "light"
     },
     "output_type": "display_data"
    }
   ],
   "source": [
    "#Grafikon za priraste pogankov v 2017\n",
    "Zid1= Zid.loc[(Zid['17-dol'] > 0)]\n",
    "fig, ax = plt.subplots()\n",
    "sns.boxplot(x=\"obr\", y='17-dol', hue=\"LD\", data=Zid1, palette=\"Set3\", ax=ax)  #hue=\"meso\",\n",
    "plt.show() #prikaže vsak graf\n",
    "fig.savefig('zidarič-prirat.png', dpi=300)"
   ]
  },
  {
   "cell_type": "code",
   "execution_count": 56,
   "metadata": {},
   "outputs": [
    {
     "data": {
      "image/png": "[encoded data removed]",
      "text/plain": [
       "<Figure size 432x288 with 1 Axes>"
      ]
     },
     "metadata": {
      "needs_background": "light"
     },
     "output_type": "display_data"
    }
   ],
   "source": [
    "#Grafikon za priraste obsega v 2017\n",
    "Zid1= Zid.loc[(Zid['17o.p'] > 0)] #izloči kjer je 0\n",
    "fig, ax = plt.subplots()\n",
    "sns.boxplot(x=\"obr\", y='17o.p', hue=\"LD\", data=Zid1, palette=\"Set3\", ax=ax)  #hue=\"meso\",\n",
    "plt.show() #prikaže vsak graf\n",
    "fig.savefig('zidarič-obseg.p.png', dpi=300)"
   ]
  },
  {
   "cell_type": "code",
   "execution_count": 67,
   "metadata": {},
   "outputs": [],
   "source": [
    "Zid = pd.read_excel (r\"P:\\OSVV\\Jablana\\2020\\Zidaric_poskus_2020\\Za obdelavo-vse\\Vsi podatki zdruzeni-2.xlsx\", 0) #bere file"
   ]
  },
  {
   "cell_type": "code",
   "execution_count": 68,
   "metadata": {},
   "outputs": [
    {
     "name": "stdout",
     "output_type": "stream",
     "text": [
      "        17o.p                               \n",
      "         mean       std       min        max\n",
      "obr                                         \n",
      "1    3.982097  2.086935 -0.383166   9.934352\n",
      "2    3.757650  2.227912 -0.536970  10.386408\n",
      "3    4.515080  2.704883 -0.861869  11.644105\n",
      "4    4.443401  2.629197 -1.270010  11.922585\n",
      "5    4.374178  2.517550 -1.192645   9.819950\n",
      "6    4.209116  1.842556 -0.419121   8.443313\n",
      "7    3.672298  1.996335 -0.473770  10.662445\n",
      "8    5.696598  2.574708  0.000000  10.735402\n",
      "LD\n",
      "D    3.693662\n",
      "L    4.951999\n",
      "Name: 17o.p, dtype: float64\n"
     ]
    }
   ],
   "source": [
    "#povprečja po--\n",
    "#print(Zid.groupby(['LD']).mean())\n",
    "\n",
    "print(Zid.groupby('obr').agg({'17o.p':['mean','std', 'min', 'max']})) #izračuna povptrečja in SD\n",
    "print(Zid.groupby('LD')['17o.p'].mean()) #izračuna samo povprečja\n",
    "\n",
    "#    df.groupby('A').agg(np.std, ddof=1)    - agg({'top_speed(mph)': ['mean', 'min', 'max']\n",
    "# Index(['LD', 'parc', 'obr', 'blok', 'st.drev', '16o', '17o', '18o', '19o',\n",
    "#        '17o.p', '18o.p', '19o.p', 'skup.o.p18', 'skup.o.p19', '17v%', '18v%',\n",
    "#        '19v%', 'SKUPv%18', 'SKUPv%19', 'IZLOCITI', '17-dol', '17st.pog',\n",
    "#        '17-avg.pog', '17.10plus', '17-vrh', '18-dol', '18st.pog', '18-avg.pog',\n",
    "#        '18.10plus', '18-vrh', 'izloci', '19-dol', '19-st.pog', '19-avg.pog',\n",
    "#        '19.10plus', '19-vrh', 'prir.dolz', 'prir.st', 'mirjena', '19I.st',\n",
    "#        '19I.kg', '19II.st', '19II.kg', '19.tla.st', '19st.j', '19.kg', 'vse'],\n",
    "#       dtype='object')"
   ]
  },
  {
   "cell_type": "code",
   "execution_count": 74,
   "metadata": {},
   "outputs": [
    {
     "name": "stdout",
     "output_type": "stream",
     "text": [
      "        17o.p     18o.p      19o.p     17-dol      18-dol   18st.pog  \\\n",
      "obr                                                                    \n",
      "1    3.982097  6.132938  11.746835  75.392405  143.696203  17.126582   \n",
      "2    3.757650  6.920640   9.289474  60.710526  120.328947  14.513158   \n",
      "3    4.515080  7.798361  11.164268  89.533333  153.546667  15.213333   \n",
      "4    4.443401  5.404976  10.072289  71.364706  130.835294  14.752941   \n",
      "5    4.374178  5.795873  11.611111  75.657534  113.287671  13.575342   \n",
      "6    4.209116  6.470957  11.412500  78.362500  149.437500  16.500000   \n",
      "7    3.672298  6.147944  11.400000  66.640449  114.528090  12.449438   \n",
      "8    5.696598  4.083424  11.364865  79.125000  137.212500  13.862500   \n",
      "\n",
      "         19-dol   19st.pog     18.kg     19.kg     20.kg  \n",
      "obr                                                       \n",
      "1    130.443038  17.810127  0.235963  1.301557  1.181532  \n",
      "2    119.868421  15.763158  0.264646  1.340013  1.040092  \n",
      "3    136.346667  15.360000  0.285815  1.219120  0.970333  \n",
      "4    134.152941  15.776471  0.276914  1.444047  0.933706  \n",
      "5    110.739726  14.780822  0.291508  1.225123  0.732466  \n",
      "6    138.350000  16.737500  0.318524  1.597375  1.004750  \n",
      "7    128.426966  14.932584  0.208369  1.411191  0.964663  \n",
      "8    117.937500  15.187500  0.263268  1.496650  0.809688  \n"
     ]
    }
   ],
   "source": [
    "#Izračuna povprečja po obravnavah --\n",
    "#print(Zid.groupby(['LD']).mean())\n",
    "\n",
    "print(Zid.groupby('obr').agg({'17o.p':'mean','18o.p':'mean','19o.p':'mean','17-dol':'mean','18-dol':'mean',\n",
    "                              '18st.pog':'mean','19-dol':'mean','19st.pog':'mean','18.kg':'mean', \n",
    "                              '19.kg':'mean','20.kg':'mean'\n",
    "                             })) #izračuna povptrečja in SD\n",
    "#zračuna povptrečja in SD\n",
    "#print(Zid.groupby('LD')['17o.p'].mean()) #izračuna samo povprečja"
   ]
  },
  {
   "cell_type": "code",
   "execution_count": 17,
   "metadata": {},
   "outputs": [
    {
     "data": {
      "application/vnd.jupyter.widget-view+json": {
       "model_id": "b8f7749edb2043b1b85b80706cc5a992",
       "version_major": 2,
       "version_minor": 0
      },
      "text/plain": [
       "interactive(children=(Dropdown(description='x', options=('obr', 'blok', 'LD', 'parc', 'st.drev', ''), value='o…"
      ]
     },
     "metadata": {},
     "output_type": "display_data"
    }
   ],
   "source": [
    "#Interaktivni graf z shranjevanjem. Podarki morajo biti uvoženi prej, da se hitro izvaja.\n",
    "Zid= Zid2\n",
    "k = ['LD', 'parc', 'obr', 'blok', 'st.drev', '16o', '17o', '18o', '17o.p',\n",
    "       '18o.p', 'skup.o.p', '17v.del', '18v.del', 'SKUPv.del', 'IZLOCITI',\n",
    "       '17-dol', '17st.pog', '17-avg.pog', '17.10plus', '17-vrh', '18-dol',\n",
    "       '18st.pog', '18-avg.pog', '18.10plus', '18-vrh', 'izloci', '19o',\n",
    "       '19-dol', '19-st.pog', '19-avg.pog', '19.10plus', '19-vrh', '19I.st',\n",
    "       '19I.kg', '19II.st', '19II.kg', '19.tla.st', '19st.j', '19.kg',\n",
    "       'Unnamed: 39'] #'cy3_1gal'] #izberemo katere parametre želimo računati - Glej kaj natisne \"h\"\n",
    "xx =  ['obr', 'blok', 'LD', 'parc','st.drev','']\n",
    "hue = ['LD','obr', 'blok',  'parc','st.drev',None]\n",
    "y = ['16o', '17o', '18o', '19o',\n",
    "       '17o.p', '18o.p', '19o.p', 'skup.o.p18', 'skup.o.p19', '17v%', '18v%',\n",
    "       '19v%', 'SKUPv%18', 'SKUPv%19', 'IZLOCITI', '17-dol', '17st.pog',\n",
    "       '17-avg.pog', '17.10plus', '17-vrh', '18-dol', '18st.pog', '18-avg.pog',\n",
    "       '18.10plus', '18-vrh', 'izloci', '19-dol', '19-st.pog', '19-avg.pog',\n",
    "       '19.10plus', '19-vrh', 'prir.dolz', 'prir.st', '19I.st', '19I.kg',\n",
    "       '19II.st', '19II.kg', '19.tla.st', '19st.j', '19.kg', 'vse']\n",
    "def f(x, y, hue):\n",
    "    fig, ax = plt.subplots()\n",
    "    Zid1= Zid.loc[(Zid[y] > 0.1)] # izloči kar je 0 v tabeli\n",
    "    sns.boxplot(x=x, y=y, hue=hue, data=Zid1, palette=\"Set3\", ax=ax)  #hue=\"meso\",\n",
    "    plt.show() #prikaže vsak graf\n",
    "    nn = 'ZidariC'+x+hue+'_za_'+y+'.png'\n",
    "    fig.savefig(nn, dpi=300)\n",
    "    return(hue, x, y)\n",
    "interact(f,x=xx, y=y, hue=hue);"
   ]
  },
  {
   "cell_type": "code",
   "execution_count": 18,
   "metadata": {},
   "outputs": [
    {
     "name": "stdout",
     "output_type": "stream",
     "text": [
      "637\n"
     ]
    },
    {
     "data": {
      "application/vnd.jupyter.widget-view+json": {
       "model_id": "0d668b663d2e4b4abe19fd8b2584bf7f",
       "version_major": 2,
       "version_minor": 0
      },
      "text/plain": [
       "interactive(children=(Dropdown(description='izloči', options=('vse', 'IZLOCITI', 'izloci'), value='vse'), Outp…"
      ]
     },
     "metadata": {},
     "output_type": "display_data"
    }
   ],
   "source": [
    "#NE DELUJE Interaktivni graf z izločanjem\n",
    "Zid = pd.read_excel (r\"P:\\OSVV\\Jablana\\2020\\Zidaric_poskus_2020\\Za obdelavo-vse\\Vsi podatki zdruzeni.xlsx\", 0) #bere file\n",
    "#print(Zid.columns)\n",
    "print(len(Zid.index))\n",
    "#print(Zid)\n",
    "#Izločeno = Zid.loc[Zid['IZLOCITI'] == 0 ]\n",
    "#Izločeno2 = Zid.loc[Zid['izloci'] == 0 ]\n",
    "parc = pd.unique(Zid[\"parc\"])\n",
    "\n",
    "izl= ['vse','IZLOCITI','izloci']\n",
    "Zid1=Zid\n",
    "def f(izloči):\n",
    "    Zid=Zid1.loc[Zid1[izloči] == 0 ]\n",
    "    print('ostalo v obravnavi', len(Zid.index))\n",
    "    def f(x, y, hue):\n",
    "        Zid=Zid1.loc[Zid1[y] > 0] # naredi da se upoštevajo samo celice ki imajo podatek(ni nič ali beseda)\n",
    "        print('ostalo v obravnavi', len(Zid.index)) # izpiše koliko vrstic je ostalo v obdelavi\n",
    "        fig, ax = plt.subplots()\n",
    "        sns.boxplot(x=x, y=y, hue=hue, data=Zid, palette=\"Set3\", ax=ax)  #hue=\"meso\",\n",
    "        plt.show() #prikaže vsak graf\n",
    "        return(hue, x, y)\n",
    "    interact(f,x=xx, y=y, hue=hue);\n",
    "interact(f,izloči=izl);\n",
    "    "
   ]
  },
  {
   "cell_type": "code",
   "execution_count": 20,
   "metadata": {},
   "outputs": [
    {
     "name": "stdout",
     "output_type": "stream",
     "text": [
      "637\n"
     ]
    },
    {
     "data": {
      "application/vnd.jupyter.widget-view+json": {
       "model_id": "89c2d0b9d76c4787a3ce54d21bafa5a0",
       "version_major": 2,
       "version_minor": 0
      },
      "text/plain": [
       "interactive(children=(Dropdown(description='izloči', options=('vse', 'IZLOCITI', 'izloci'), value='vse'), Outp…"
      ]
     },
     "metadata": {},
     "output_type": "display_data"
    }
   ],
   "source": [
    "#poiskušam z posthoc\n",
    "#Interaktivni graf z izločanjem\n",
    "import statsmodels.stats.multicomp as mc\n",
    "import statsmodels.api as sa\n",
    "import statsmodels.formula.api as sfa\n",
    "import scipy.stats as ss\n",
    "import statsmodels.api as sa\n",
    "import scikit_posthocs as sp\n",
    "\n",
    "Zid = pd.read_excel (r\"P:\\OSVV\\Jablana\\2020\\Zidaric_poskus_2020\\Za obdelavo-vse\\Vsi podatki zdruzeni.xlsx\", 0) #bere file\n",
    "Zid4 = pd.read_excel (r\"P:\\OSVV\\Jablana\\2020\\Zidaric_poskus_2020\\Za obdelavo-vse\\KopijaVsi podatki zdruzeni1.xlsx\", 0) #bere file\n",
    "\n",
    "#print(Zid.columns)\n",
    "print(len(Zid.index))\n",
    "#print(Zid)\n",
    "#Izločeno = Zid.loc[Zid['IZLOCITI'] == 0 ]\n",
    "#Izločeno2 = Zid.loc[Zid['izloci'] == 0 ]\n",
    "parc = pd.unique(Zid[\"parc\"])\n",
    "\n",
    "izl= ['vse','IZLOCITI','izloci']\n",
    "Zid1=Zid\n",
    "def f(izloči):\n",
    "    Zid=Zid1.loc[Zid1[izloči] == 0 ]\n",
    "    print('ostalo v obravnavi', len(Zid.index))\n",
    "    def f(x, y, hue):\n",
    "        Zid=Zid1.loc[Zid1[y] > 0] # naredi da se upoštevajo samo celice ki imajo podatek(ni nič ali beseda)\n",
    "        print('ostalo v obravnavi', len(Zid.index)) # izpiše koliko vrstic je ostalo v obdelavi\n",
    "        fig, ax = plt.subplots()\n",
    "        sns.boxplot(x=x, y=y, hue=hue, data=Zid, palette=\"Set3\", ax=ax)  #hue=\"meso\",\n",
    "        plt.show() #prikaže vsak graf\n",
    "        #delamo na dodajanju Anova\n",
    "        yy=Zid[y] #pripravimo, dalahko bere OLS modul za ANOVA\n",
    "        xx=Zid[x]\n",
    "        huex=Zid[hue] \n",
    "#         model1=ols('yy ~ C(xx) + C(huex) + C(xx):C(huex)', data=Zid).fit()#naredimo dvofaktorsko anovo\n",
    "#         #model1=ols('obse ~ C(obr) + C(blok) + C(obr):C(blok)', data=orders).fit()\n",
    "#         anova_table1 = sm.stats.anova_lm(model1, typ=2)\n",
    "#         print('ANOVA >xx=',x,'<  in >huex=', hue, '<   ter  >spremenljivaka=', y, '<')\n",
    "#         print(anova_table1) #prikaže ANOVA tabelo\n",
    "        lm = sfa.ols('yy ~ C(xx)', data=Zid).fit()\n",
    "        anova = sa.stats.anova_lm(lm)\n",
    "        print(anova)\n",
    "                \n",
    "        print('      ------POST HOC------za',y,x)     \n",
    "        #Post-Hoc poskus\n",
    "        hsd = mc.pairwise_tukeyhsd(Zid[y], Zid[x] )\n",
    "        #print(hsd)\n",
    "#         print('fridman')\n",
    "#         fm= sp.posthoc_nemenyi_friedman(Zid, y_col=y, block_col=hue, group_col=x, melted=True)\n",
    "#         print(fm)\n",
    "        #za prikaz razlik med skupinami\n",
    "       \n",
    "        pc = sp.posthoc_conover(Zid, val_col=y, group_col=x)\n",
    "        #pc = sp.posthoc_conover(Zid, val_col='obse', group_col='obr') #naredi posthoc preskuse\n",
    "        print(pc)\n",
    "        print('      ------Prikaz POST HOC------za',y,x)\n",
    "        heatmap_args = {'linewidths': 0.25, 'linecolor': '0.5', 'clip_on': False, 'square': True, 'cbar_ax_bbox': [0.80, 0.35, 0.04, 0.3]}\n",
    "        sp.sign_plot(pc, **heatmap_args) #izriše posthoc poskuse\n",
    "        \n",
    "        #return(izloči, hue, x, y)   #bi izpisalo vse izbrane parametre\n",
    "    interact(f,x=xx, y=y, hue=hue);\n",
    "interact(f,izloči=izl);\n",
    "#bo še posthoc in ANOVA (Že skoraj dela)"
   ]
  },
  {
   "cell_type": "code",
   "execution_count": 40,
   "metadata": {},
   "outputs": [
    {
     "name": "stdout",
     "output_type": "stream",
     "text": [
      "                  sum_sq     df         F        PR(>F)\n",
      "C(x)         2109.054723    7.0  6.157912  5.657108e-07\n",
      "C(xx)         833.673443    3.0  5.679608  7.706499e-04\n",
      "C(x):C(xx)  10234.856669   21.0  9.961073  1.011435e-27\n",
      "Residual    29601.365041  605.0       NaN           NaN\n",
      "Multiple Comparison of Means - Tukey HSD, FWER=0.05 \n",
      "====================================================\n",
      "group1 group2 meandiff p-adj   lower   upper  reject\n",
      "----------------------------------------------------\n",
      "     1      2  -0.5878    0.9 -4.5169  3.3412  False\n",
      "     1      3  -4.2523 0.0242 -8.1947 -0.3099   True\n",
      "     1      4   1.9244 0.7636 -1.8972   5.746  False\n",
      "     1      5   1.2485    0.9 -2.7215  5.2185  False\n",
      "     1      6   1.7862 0.8415 -2.0925  5.6649  False\n",
      "     1      7   1.0023    0.9 -2.7777  4.7823  False\n",
      "     1      8   0.5009    0.9 -3.3778  4.3796  False\n",
      "     2      3  -3.6644 0.0967 -7.6446  0.3157  False\n",
      "     2      4   2.5123 0.4968 -1.3482  6.3727  False\n",
      "     2      5   1.8363 0.8457 -2.1711  5.8438  False\n",
      "     2      6    2.374 0.5779  -1.543   6.291  False\n",
      "     2      7   1.5901    0.9 -2.2292  5.4094  False\n",
      "     2      8   1.0888    0.9 -2.8283  5.0058  False\n",
      "     3      4   6.1767  0.001  2.3026 10.0507   True\n",
      "     3      5   5.5008  0.001  1.4803  9.5213   True\n",
      "     3      6   6.0385  0.001  2.1081  9.9689   True\n",
      "     3      7   5.2545  0.001  1.4215  9.0876   True\n",
      "     3      8   4.7532 0.0062  0.8228  8.6836   True\n",
      "     4      5  -0.6759    0.9  -4.578  3.2262  False\n",
      "     4      6  -0.1382    0.9 -3.9474   3.671  False\n",
      "     4      7  -0.9222    0.9 -4.6308  2.7865  False\n",
      "     4      8  -1.4235    0.9 -5.2327  2.3857  False\n",
      "     5      6   0.5377    0.9 -3.4204  4.4958  False\n",
      "     5      7  -0.2463    0.9 -4.1077  3.6152  False\n",
      "     5      8  -0.7476    0.9 -4.7057  3.2105  False\n",
      "     6      7  -0.7839    0.9 -4.5514  2.9835  False\n",
      "     6      8  -1.2853    0.9 -5.1517  2.5812  False\n",
      "     7      8  -0.5013    0.9 -4.2688  3.2661  False\n",
      "----------------------------------------------------\n",
      "Multiple Comparison of Means - Tukey HSD, FWER=0.05 \n",
      "====================================================\n",
      "group1 group2 meandiff p-adj   lower   upper  reject\n",
      "----------------------------------------------------\n",
      "     1      2  -0.5878    0.9 -4.5169  3.3412  False\n",
      "     1      3  -4.2523 0.0242 -8.1947 -0.3099   True\n",
      "     1      4   1.9244 0.7636 -1.8972   5.746  False\n",
      "     1      5   1.2485    0.9 -2.7215  5.2185  False\n",
      "     1      6   1.7862 0.8415 -2.0925  5.6649  False\n",
      "     1      7   1.0023    0.9 -2.7777  4.7823  False\n",
      "     1      8   0.5009    0.9 -3.3778  4.3796  False\n",
      "     2      3  -3.6644 0.0967 -7.6446  0.3157  False\n",
      "     2      4   2.5123 0.4968 -1.3482  6.3727  False\n",
      "     2      5   1.8363 0.8457 -2.1711  5.8438  False\n",
      "     2      6    2.374 0.5779  -1.543   6.291  False\n",
      "     2      7   1.5901    0.9 -2.2292  5.4094  False\n",
      "     2      8   1.0888    0.9 -2.8283  5.0058  False\n",
      "     3      4   6.1767  0.001  2.3026 10.0507   True\n",
      "     3      5   5.5008  0.001  1.4803  9.5213   True\n",
      "     3      6   6.0385  0.001  2.1081  9.9689   True\n",
      "     3      7   5.2545  0.001  1.4215  9.0876   True\n",
      "     3      8   4.7532 0.0062  0.8228  8.6836   True\n",
      "     4      5  -0.6759    0.9  -4.578  3.2262  False\n",
      "     4      6  -0.1382    0.9 -3.9474   3.671  False\n",
      "     4      7  -0.9222    0.9 -4.6308  2.7865  False\n",
      "     4      8  -1.4235    0.9 -5.2327  2.3857  False\n",
      "     5      6   0.5377    0.9 -3.4204  4.4958  False\n",
      "     5      7  -0.2463    0.9 -4.1077  3.6152  False\n",
      "     5      8  -0.7476    0.9 -4.7057  3.2105  False\n",
      "     6      7  -0.7839    0.9 -4.5514  2.9835  False\n",
      "     6      8  -1.2853    0.9 -5.1517  2.5812  False\n",
      "     7      8  -0.5013    0.9 -4.2688  3.2661  False\n",
      "----------------------------------------------------\n",
      "konc\n"
     ]
    }
   ],
   "source": [
    "#poiskus dveh posthoc - ne uspem narediti interactivna\n",
    "import seaborn as sns\n",
    "#from typing import Tuple\n",
    "import statsmodels\n",
    "import statsmodels.api as sm\n",
    "from statsmodels.formula.api import ols\n",
    "import statsmodels.stats.multicomp as mc\n",
    "\n",
    "#(['LD', 'parc', 'obr', 'blok', 'st.drev', '16o', '17o', '18o', '17o.p',\n",
    "#        '18o.p', 'skup.o.p', '17v.del', '18v.del', 'SKUPv.del', 'IZLOCITI',\n",
    "#        '17-dol', '17st.pog', '17-avg.pog', '17.10plus', '17-vrh', '18-dol',\n",
    "#        '18st.pog', '18-avg.pog', '18.10plus', '18-vrh', 'izloci', '19o',\n",
    "#        '19-dol', '19-st.pog', '19-avg.pog', '19.10plus', '19-vrh', '19I.st',\n",
    "#        '19I.kg', '19II.st', '19II.kg', '19.tla.st', '19st.j', '19.kg', 'vse'],\n",
    "#       dtype='object')\n",
    "Zid = pd.read_excel (r\"P:\\OSVV\\Jablana\\2020\\Zidaric_poskus_2020\\Za obdelavo-vse\\KopijaVsi podatki zdruzeni1.xlsx\", 0) \n",
    "# load data file\n",
    "orders = Zid#pd.read_excel('/media/Data/topaz-redcenje-2020_7.5.xlsx', 0)\n",
    "#h=orders.columns\n",
    "\n",
    "\n",
    "y=Zid.obse\n",
    "x=Zid.obr\n",
    "xx=Zid.blok\n",
    "#print(y)\n",
    "model1=ols('y ~ C(x) + C(xx) + C(x):C(xx)', data=Zid).fit()\n",
    "#model1=ols('obse ~ C(obr) + C(blok) + C(obr):C(blok)', data=orders).fit()\n",
    "anova_table1 = sm.stats.anova_lm(model1, typ=2)\n",
    "print(anova_table1)\n",
    "\n",
    "# Post Hoc\n",
    "data=Zid\n",
    "hsd = mc.pairwise_tukeyhsd(data['obse'], data['obr'] )\n",
    "print(hsd)\n",
    "\n",
    "mc = statsmodels.stats.multicomp.MultiComparison(data['obse'], data['obr'])\n",
    "mc_results = mc.tukeyhsd()\n",
    "print(mc_results)\n",
    "\n",
    "print('konc')"
   ]
  },
  {
   "cell_type": "code",
   "execution_count": 21,
   "metadata": {},
   "outputs": [
    {
     "name": "stdout",
     "output_type": "stream",
     "text": [
      "             df        sum_sq     mean_sq         F    PR(>F)\n",
      "C(obr)      7.0   2133.835213  304.833602  4.714552  0.000036\n",
      "Residual  629.0  40669.895153   64.658021       NaN       NaN\n"
     ]
    },
    {
     "data": {
      "text/html": [
       "<div>\n",
       "<style scoped>\n",
       "    .dataframe tbody tr th:only-of-type {\n",
       "        vertical-align: middle;\n",
       "    }\n",
       "\n",
       "    .dataframe tbody tr th {\n",
       "        vertical-align: top;\n",
       "    }\n",
       "\n",
       "    .dataframe thead th {\n",
       "        text-align: right;\n",
       "    }\n",
       "</style>\n",
       "<table border=\"1\" class=\"dataframe\">\n",
       "  <thead>\n",
       "    <tr style=\"text-align: right;\">\n",
       "      <th></th>\n",
       "      <th>1</th>\n",
       "      <th>2</th>\n",
       "      <th>3</th>\n",
       "      <th>4</th>\n",
       "      <th>5</th>\n",
       "      <th>6</th>\n",
       "      <th>7</th>\n",
       "      <th>8</th>\n",
       "    </tr>\n",
       "  </thead>\n",
       "  <tbody>\n",
       "    <tr>\n",
       "      <th>1</th>\n",
       "      <td>1.000000</td>\n",
       "      <td>1.000000</td>\n",
       "      <td>0.776796</td>\n",
       "      <td>0.295259</td>\n",
       "      <td>1.000000</td>\n",
       "      <td>0.246997</td>\n",
       "      <td>1.000000</td>\n",
       "      <td>1.000000</td>\n",
       "    </tr>\n",
       "    <tr>\n",
       "      <th>2</th>\n",
       "      <td>1.000000</td>\n",
       "      <td>1.000000</td>\n",
       "      <td>1.000000</td>\n",
       "      <td>0.038394</td>\n",
       "      <td>0.395103</td>\n",
       "      <td>0.021664</td>\n",
       "      <td>0.310424</td>\n",
       "      <td>1.000000</td>\n",
       "    </tr>\n",
       "    <tr>\n",
       "      <th>3</th>\n",
       "      <td>0.776796</td>\n",
       "      <td>1.000000</td>\n",
       "      <td>1.000000</td>\n",
       "      <td>0.090482</td>\n",
       "      <td>0.310424</td>\n",
       "      <td>0.119661</td>\n",
       "      <td>0.223512</td>\n",
       "      <td>0.661425</td>\n",
       "    </tr>\n",
       "    <tr>\n",
       "      <th>4</th>\n",
       "      <td>0.295259</td>\n",
       "      <td>0.038394</td>\n",
       "      <td>0.090482</td>\n",
       "      <td>1.000000</td>\n",
       "      <td>1.000000</td>\n",
       "      <td>1.000000</td>\n",
       "      <td>1.000000</td>\n",
       "      <td>1.000000</td>\n",
       "    </tr>\n",
       "    <tr>\n",
       "      <th>5</th>\n",
       "      <td>1.000000</td>\n",
       "      <td>0.395103</td>\n",
       "      <td>0.310424</td>\n",
       "      <td>1.000000</td>\n",
       "      <td>1.000000</td>\n",
       "      <td>1.000000</td>\n",
       "      <td>1.000000</td>\n",
       "      <td>1.000000</td>\n",
       "    </tr>\n",
       "    <tr>\n",
       "      <th>6</th>\n",
       "      <td>0.246997</td>\n",
       "      <td>0.021664</td>\n",
       "      <td>0.119661</td>\n",
       "      <td>1.000000</td>\n",
       "      <td>1.000000</td>\n",
       "      <td>1.000000</td>\n",
       "      <td>1.000000</td>\n",
       "      <td>1.000000</td>\n",
       "    </tr>\n",
       "    <tr>\n",
       "      <th>7</th>\n",
       "      <td>1.000000</td>\n",
       "      <td>0.310424</td>\n",
       "      <td>0.223512</td>\n",
       "      <td>1.000000</td>\n",
       "      <td>1.000000</td>\n",
       "      <td>1.000000</td>\n",
       "      <td>1.000000</td>\n",
       "      <td>1.000000</td>\n",
       "    </tr>\n",
       "    <tr>\n",
       "      <th>8</th>\n",
       "      <td>1.000000</td>\n",
       "      <td>1.000000</td>\n",
       "      <td>0.661425</td>\n",
       "      <td>1.000000</td>\n",
       "      <td>1.000000</td>\n",
       "      <td>1.000000</td>\n",
       "      <td>1.000000</td>\n",
       "      <td>1.000000</td>\n",
       "    </tr>\n",
       "  </tbody>\n",
       "</table>\n",
       "</div>"
      ],
      "text/plain": [
       "          1         2         3         4         5         6         7  \\\n",
       "1  1.000000  1.000000  0.776796  0.295259  1.000000  0.246997  1.000000   \n",
       "2  1.000000  1.000000  1.000000  0.038394  0.395103  0.021664  0.310424   \n",
       "3  0.776796  1.000000  1.000000  0.090482  0.310424  0.119661  0.223512   \n",
       "4  0.295259  0.038394  0.090482  1.000000  1.000000  1.000000  1.000000   \n",
       "5  1.000000  0.395103  0.310424  1.000000  1.000000  1.000000  1.000000   \n",
       "6  0.246997  0.021664  0.119661  1.000000  1.000000  1.000000  1.000000   \n",
       "7  1.000000  0.310424  0.223512  1.000000  1.000000  1.000000  1.000000   \n",
       "8  1.000000  1.000000  0.661425  1.000000  1.000000  1.000000  1.000000   \n",
       "\n",
       "          8  \n",
       "1  1.000000  \n",
       "2  1.000000  \n",
       "3  0.661425  \n",
       "4  1.000000  \n",
       "5  1.000000  \n",
       "6  1.000000  \n",
       "7  1.000000  \n",
       "8  1.000000  "
      ]
     },
     "execution_count": 21,
     "metadata": {},
     "output_type": "execute_result"
    }
   ],
   "source": [
    "Zid = pd.read_excel (r\"P:\\OSVV\\Jablana\\2020\\Zidaric_poskus_2020\\Za obdelavo-vse\\KopijaVsi podatki zdruzeni1.xlsx\", 0) \n",
    "import scipy.stats as ss\n",
    "import statsmodels.api as sa\n",
    "import scikit_posthocs as sp\n",
    "\n",
    "#data = [df.loc[ids, 'Sepal.Width'].values for ids in df.groupby('Species').groups.values()]\n",
    "\n",
    "import statsmodels.api as sa\n",
    "import statsmodels.formula.api as sfa\n",
    "import scikit_posthocs as sp\n",
    "#df = sa.datasets.get_rdataset('iris').data\n",
    "#df.head()\n",
    "#df.columns[1]=\"SepalWidth\"\n",
    "data=Zid\n",
    "lm = sfa.ols('obse ~ C(obr)', data=data).fit()\n",
    "anova = sa.stats.anova_lm(lm) #  data['obse'], data['obr']\n",
    "print(anova)\n",
    "#sp.posthoc_ttest(df, val_col='Sepal.Width', group_col='Species', p_adjust='holm')\n",
    "sp.posthoc_ttest(data, val_col='obse', group_col='obr', p_adjust='holm')\n"
   ]
  },
  {
   "cell_type": "code",
   "execution_count": 22,
   "metadata": {},
   "outputs": [
    {
     "name": "stderr",
     "output_type": "stream",
     "text": [
      "C:\\Users\\jozehl\\AppData\\Local\\Continuum\\anaconda3\\lib\\site-packages\\ipykernel_launcher.py:1: VisibleDeprecationWarning: Creating an ndarray from ragged nested sequences (which is a list-or-tuple of lists-or-tuples-or ndarrays with different lengths or shapes) is deprecated. If you meant to do this, you must specify 'dtype=object' when creating the ndarray\n",
      "  \"\"\"Entry point for launching an IPython kernel.\n"
     ]
    },
    {
     "ename": "NameError",
     "evalue": "name 'pc' is not defined",
     "output_type": "error",
     "traceback": [
      "\u001b[1;31m---------------------------------------------------------------------------\u001b[0m",
      "\u001b[1;31mNameError\u001b[0m                                 Traceback (most recent call last)",
      "\u001b[1;32m<ipython-input-22-88a8cb9eb29e>\u001b[0m in \u001b[0;36m<module>\u001b[1;34m\u001b[0m\n\u001b[0;32m     10\u001b[0m \u001b[1;31m#pc = sp.posthoc_conover(data, val_col='obse', group_col='obr') #naredi posthoc preskuse\u001b[0m\u001b[1;33m\u001b[0m\u001b[1;33m\u001b[0m\u001b[1;33m\u001b[0m\u001b[0m\n\u001b[0;32m     11\u001b[0m \u001b[0mheatmap_args\u001b[0m \u001b[1;33m=\u001b[0m \u001b[1;33m{\u001b[0m\u001b[1;34m'linewidths'\u001b[0m\u001b[1;33m:\u001b[0m \u001b[1;36m0.25\u001b[0m\u001b[1;33m,\u001b[0m \u001b[1;34m'linecolor'\u001b[0m\u001b[1;33m:\u001b[0m \u001b[1;34m'0.5'\u001b[0m\u001b[1;33m,\u001b[0m \u001b[1;34m'clip_on'\u001b[0m\u001b[1;33m:\u001b[0m \u001b[1;32mFalse\u001b[0m\u001b[1;33m,\u001b[0m \u001b[1;34m'square'\u001b[0m\u001b[1;33m:\u001b[0m \u001b[1;32mTrue\u001b[0m\u001b[1;33m,\u001b[0m \u001b[1;34m'cbar_ax_bbox'\u001b[0m\u001b[1;33m:\u001b[0m \u001b[1;33m[\u001b[0m\u001b[1;36m0.80\u001b[0m\u001b[1;33m,\u001b[0m \u001b[1;36m0.35\u001b[0m\u001b[1;33m,\u001b[0m \u001b[1;36m0.04\u001b[0m\u001b[1;33m,\u001b[0m \u001b[1;36m0.3\u001b[0m\u001b[1;33m]\u001b[0m\u001b[1;33m}\u001b[0m\u001b[1;33m\u001b[0m\u001b[1;33m\u001b[0m\u001b[0m\n\u001b[1;32m---> 12\u001b[1;33m \u001b[0msp\u001b[0m\u001b[1;33m.\u001b[0m\u001b[0msign_plot\u001b[0m\u001b[1;33m(\u001b[0m\u001b[0mpc\u001b[0m\u001b[1;33m,\u001b[0m \u001b[1;33m**\u001b[0m\u001b[0mheatmap_args\u001b[0m\u001b[1;33m)\u001b[0m \u001b[1;31m#izriše posthoc poskuse\u001b[0m\u001b[1;33m\u001b[0m\u001b[1;33m\u001b[0m\u001b[0m\n\u001b[0m\u001b[0;32m     13\u001b[0m \u001b[1;33m\u001b[0m\u001b[0m\n\u001b[0;32m     14\u001b[0m \u001b[1;31m# pc = sp.posthoc_conover(x, val_col='values', group_col='groups')\u001b[0m\u001b[1;33m\u001b[0m\u001b[1;33m\u001b[0m\u001b[1;33m\u001b[0m\u001b[0m\n",
      "\u001b[1;31mNameError\u001b[0m: name 'pc' is not defined"
     ]
    }
   ],
   "source": [
    "x = np.array([[1,2,1,3,1,4], [12,3,11,9,3,8,1], [10,22,12,9,8,3]])\n",
    "import statsmodels.api as sa\n",
    "import scikit_posthocs as sp\n",
    "df = sa.datasets.get_rdataset('iris').data\n",
    "sp.posthoc_conover(df, val_col='Sepal.Width', group_col='Species', p_adjust = 'holm')\n",
    "y=data.obse\n",
    "x=data.obr\n",
    "#print(y)\n",
    "Pc = sp.posthoc_conover(data, val_col='obse', group_col='obr')\n",
    "#pc = sp.posthoc_conover(data, val_col='obse', group_col='obr') #naredi posthoc preskuse\n",
    "heatmap_args = {'linewidths': 0.25, 'linecolor': '0.5', 'clip_on': False, 'square': True, 'cbar_ax_bbox': [0.80, 0.35, 0.04, 0.3]}\n",
    "sp.sign_plot(pc, **heatmap_args) #izriše posthoc poskuse\n",
    "\n",
    "# pc = sp.posthoc_conover(x, val_col='values', group_col='groups')\n",
    "# heatmap_args = {'linewidths': 0.25, 'linecolor': '0.5', 'clip_on': False, 'square': True, 'cbar_ax_bbox': [0.80, 0.35, 0.04, 0.3]}\n",
    "# sp.sign_plot(pc, **heatmap_args)\n",
    "\n",
    "# pc = sp.posthoc_conover(x, val_col='values', group_col='groups')\n",
    "# # Format: diagonal, non-significant, p<0.001, p<0.01, p<0.05\n",
    "# cmap = ['1', '#fb6a4a',  '#08306b',  '#4292c6', '#c6dbef']\n",
    "# heatmap_args = {'cmap': cmap, 'linewidths': 0.25, 'linecolor': '0.5', 'clip_on': False, 'square': True, 'cbar_ax_bbox': [0.80, 0.35, 0.04, 0.3]}\n",
    "# sp.sign_plot(pc, **heatmap_args)"
   ]
  },
  {
   "cell_type": "code",
   "execution_count": 23,
   "metadata": {},
   "outputs": [
    {
     "data": {
      "text/html": [
       "<div>\n",
       "<style scoped>\n",
       "    .dataframe tbody tr th:only-of-type {\n",
       "        vertical-align: middle;\n",
       "    }\n",
       "\n",
       "    .dataframe tbody tr th {\n",
       "        vertical-align: top;\n",
       "    }\n",
       "\n",
       "    .dataframe thead th {\n",
       "        text-align: right;\n",
       "    }\n",
       "</style>\n",
       "<table border=\"1\" class=\"dataframe\">\n",
       "  <thead>\n",
       "    <tr style=\"text-align: right;\">\n",
       "      <th></th>\n",
       "      <th>0</th>\n",
       "      <th>1</th>\n",
       "      <th>2</th>\n",
       "      <th>3</th>\n",
       "    </tr>\n",
       "  </thead>\n",
       "  <tbody>\n",
       "    <tr>\n",
       "      <th>0</th>\n",
       "      <td>1.000000</td>\n",
       "      <td>0.220908</td>\n",
       "      <td>0.823993</td>\n",
       "      <td>0.031375</td>\n",
       "    </tr>\n",
       "    <tr>\n",
       "      <th>1</th>\n",
       "      <td>0.220908</td>\n",
       "      <td>1.000000</td>\n",
       "      <td>0.670273</td>\n",
       "      <td>0.823993</td>\n",
       "    </tr>\n",
       "    <tr>\n",
       "      <th>2</th>\n",
       "      <td>0.823993</td>\n",
       "      <td>0.670273</td>\n",
       "      <td>1.000000</td>\n",
       "      <td>0.220908</td>\n",
       "    </tr>\n",
       "    <tr>\n",
       "      <th>3</th>\n",
       "      <td>0.031375</td>\n",
       "      <td>0.823993</td>\n",
       "      <td>0.220908</td>\n",
       "      <td>1.000000</td>\n",
       "    </tr>\n",
       "  </tbody>\n",
       "</table>\n",
       "</div>"
      ],
      "text/plain": [
       "          0         1         2         3\n",
       "0  1.000000  0.220908  0.823993  0.031375\n",
       "1  0.220908  1.000000  0.670273  0.823993\n",
       "2  0.823993  0.670273  1.000000  0.220908\n",
       "3  0.031375  0.823993  0.220908  1.000000"
      ]
     },
     "execution_count": 23,
     "metadata": {},
     "output_type": "execute_result"
    }
   ],
   "source": [
    "data = np.array([[ 8.82, 11.8 , 10.37, 12.08],\n",
    "                     [ 8.92,  9.58, 10.59, 11.89],\n",
    "                     [ 8.27, 11.46, 10.24, 11.6 ],\n",
    "                     [ 8.83, 13.25,  8.33, 11.51]])\n",
    "import scipy.stats as ss\n",
    "ss.friedmanchisquare(*data.T)\n",
    "import scikit_posthocs as sp\n",
    "sp.posthoc_nemenyi_friedman(data)"
   ]
  },
  {
   "cell_type": "code",
   "execution_count": null,
   "metadata": {},
   "outputs": [],
   "source": []
  }
 ],
 "metadata": {
  "kernelspec": {
   "display_name": "Python 3",
   "language": "python",
   "name": "python3"
  },
  "language_info": {
   "codemirror_mode": {
    "name": "ipython",
    "version": 3
   },
   "file_extension": ".py",
   "mimetype": "text/x-python",
   "name": "python",
   "nbconvert_exporter": "python",
   "pygments_lexer": "ipython3",
   "version": "3.8.5"
  }
 },
 "nbformat": 4,
 "nbformat_minor": 4
}
